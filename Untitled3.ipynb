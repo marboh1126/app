{
  "nbformat": 4,
  "nbformat_minor": 0,
  "metadata": {
    "colab": {
      "name": "Untitled3.ipynb",
      "version": "0.3.2",
      "provenance": [],
      "include_colab_link": true
    },
    "kernelspec": {
      "name": "python3",
      "display_name": "Python 3"
    }
  },
  "cells": [
    {
      "cell_type": "markdown",
      "metadata": {
        "id": "view-in-github",
        "colab_type": "text"
      },
      "source": [
        "<a href=\"https://colab.research.google.com/github/marboh1126/app/blob/master/Untitled3.ipynb\" target=\"_parent\"><img src=\"https://colab.research.google.com/assets/colab-badge.svg\" alt=\"Open In Colab\"/></a>"
      ]
    },
    {
      "metadata": {
        "id": "KjTEPQ9hhPxP",
        "colab_type": "code",
        "colab": {}
      },
      "cell_type": "code",
      "source": [
        "import time\n",
        "import numpy as np\n",
        "import matplotlib.pyplot as plt\n",
        "import tensorflow as tf"
      ],
      "execution_count": 0,
      "outputs": []
    },
    {
      "metadata": {
        "id": "Tj9DQZHyhoTS",
        "colab_type": "code",
        "colab": {}
      },
      "cell_type": "code",
      "source": [
        "import utils"
      ],
      "execution_count": 0,
      "outputs": []
    },
    {
      "metadata": {
        "id": "E9e3RJsMhqwS",
        "colab_type": "code",
        "colab": {
          "base_uri": "https://localhost:8080/",
          "height": 2137
        },
        "outputId": "731c66bd-25e6-4772-88b5-da0ce1a6f244"
      },
      "cell_type": "code",
      "source": [
        "DATA_FILE = 'birth_life_2010.txt'\n",
        "\n",
        "#Step 1\n",
        "data, n_samples = utils.read_birth_life_data(DATA_FILE)\n",
        "\n",
        "#Step 2\n",
        "X = tf.placeholder(tf.float32, name='X')\n",
        "Y = tf.placeholder(tf.float32, name='Y')\n",
        "\n",
        "#Step 3\n",
        "w = tf.get_variable('weights', initializer=tf.constant(0.0))\n",
        "b = tf.get_variable('bias', initializer=tf.constant(0.0))\n",
        "\n",
        "#Step 4\n",
        "Y_predicted = w * X + b\n",
        "print(Y_predicted)\n",
        "\n",
        "#Step 5\n",
        "loss = tf.square(Y - Y_predicted, name = 'loss')\n",
        "\n",
        "#Step 6\n",
        "optimizer = tf.train.GradientDescentOptimizer(learning_rate=0.001).minimize(loss)\n",
        "\n",
        "\n",
        "start = time.time()\n",
        "writer = tf.summary.FileWriter('./graphs/linear_reg', tf.get_default_graph())\n",
        "with tf.Session() as sess:\n",
        "  #Step 7\n",
        "  sess.run(tf.global_variables_initializer())\n",
        "  \n",
        "  #Step 8\n",
        "  for i in range(100):\n",
        "    total_loss = 0\n",
        "    for x, y in data:\n",
        "      _, l = sess.run([optimizer, loss], feed_dict={X: x, Y: y})\n",
        "      total_loss += 1\n",
        "    print('Epoch {0}:{1}'.format(i, total_loss/n_samples))\n",
        "    \n",
        "    writer.close()\n",
        "    \n",
        "    w_out, b_out = sess.run([w, b])\n",
        "    \n",
        "print('Took: %f seconds' %(time.time() - start))\n",
        "\n",
        "plt.plot(data[:,0], data[:,1], 'bo', label='Real data')\n",
        "plt.plot(data[:,0], data[:,0] * w_out + b_out, 'r', label='Predicted data')\n",
        "plt.legend()\n",
        "plt.show()"
      ],
      "execution_count": 3,
      "outputs": [
        {
          "output_type": "stream",
          "text": [
            "WARNING:tensorflow:From /usr/local/lib/python3.6/dist-packages/tensorflow/python/framework/op_def_library.py:263: colocate_with (from tensorflow.python.framework.ops) is deprecated and will be removed in a future version.\n",
            "Instructions for updating:\n",
            "Colocations handled automatically by placer.\n",
            "Tensor(\"add:0\", dtype=float32)\n",
            "Epoch 0:1.0\n",
            "Epoch 1:1.0\n",
            "Epoch 2:1.0\n",
            "Epoch 3:1.0\n",
            "Epoch 4:1.0\n",
            "Epoch 5:1.0\n",
            "Epoch 6:1.0\n",
            "Epoch 7:1.0\n",
            "Epoch 8:1.0\n",
            "Epoch 9:1.0\n",
            "Epoch 10:1.0\n",
            "Epoch 11:1.0\n",
            "Epoch 12:1.0\n",
            "Epoch 13:1.0\n",
            "Epoch 14:1.0\n",
            "Epoch 15:1.0\n",
            "Epoch 16:1.0\n",
            "Epoch 17:1.0\n",
            "Epoch 18:1.0\n",
            "Epoch 19:1.0\n",
            "Epoch 20:1.0\n",
            "Epoch 21:1.0\n",
            "Epoch 22:1.0\n",
            "Epoch 23:1.0\n",
            "Epoch 24:1.0\n",
            "Epoch 25:1.0\n",
            "Epoch 26:1.0\n",
            "Epoch 27:1.0\n",
            "Epoch 28:1.0\n",
            "Epoch 29:1.0\n",
            "Epoch 30:1.0\n",
            "Epoch 31:1.0\n",
            "Epoch 32:1.0\n",
            "Epoch 33:1.0\n",
            "Epoch 34:1.0\n",
            "Epoch 35:1.0\n",
            "Epoch 36:1.0\n",
            "Epoch 37:1.0\n",
            "Epoch 38:1.0\n",
            "Epoch 39:1.0\n",
            "Epoch 40:1.0\n",
            "Epoch 41:1.0\n",
            "Epoch 42:1.0\n",
            "Epoch 43:1.0\n",
            "Epoch 44:1.0\n",
            "Epoch 45:1.0\n",
            "Epoch 46:1.0\n",
            "Epoch 47:1.0\n",
            "Epoch 48:1.0\n",
            "Epoch 49:1.0\n",
            "Epoch 50:1.0\n",
            "Epoch 51:1.0\n",
            "Epoch 52:1.0\n",
            "Epoch 53:1.0\n",
            "Epoch 54:1.0\n",
            "Epoch 55:1.0\n",
            "Epoch 56:1.0\n",
            "Epoch 57:1.0\n",
            "Epoch 58:1.0\n",
            "Epoch 59:1.0\n",
            "Epoch 60:1.0\n",
            "Epoch 61:1.0\n",
            "Epoch 62:1.0\n",
            "Epoch 63:1.0\n",
            "Epoch 64:1.0\n",
            "Epoch 65:1.0\n",
            "Epoch 66:1.0\n",
            "Epoch 67:1.0\n",
            "Epoch 68:1.0\n",
            "Epoch 69:1.0\n",
            "Epoch 70:1.0\n",
            "Epoch 71:1.0\n",
            "Epoch 72:1.0\n",
            "Epoch 73:1.0\n",
            "Epoch 74:1.0\n",
            "Epoch 75:1.0\n",
            "Epoch 76:1.0\n",
            "Epoch 77:1.0\n",
            "Epoch 78:1.0\n",
            "Epoch 79:1.0\n",
            "Epoch 80:1.0\n",
            "Epoch 81:1.0\n",
            "Epoch 82:1.0\n",
            "Epoch 83:1.0\n",
            "Epoch 84:1.0\n",
            "Epoch 85:1.0\n",
            "Epoch 86:1.0\n",
            "Epoch 87:1.0\n",
            "Epoch 88:1.0\n",
            "Epoch 89:1.0\n",
            "Epoch 90:1.0\n",
            "Epoch 91:1.0\n",
            "Epoch 92:1.0\n",
            "Epoch 93:1.0\n",
            "Epoch 94:1.0\n",
            "Epoch 95:1.0\n",
            "Epoch 96:1.0\n",
            "Epoch 97:1.0\n",
            "Epoch 98:1.0\n",
            "Epoch 99:1.0\n",
            "Took: 9.377792 seconds\n"
          ],
          "name": "stdout"
        },
        {
          "output_type": "display_data",
          "data": {
            "image/png": "[encoded data removed]",
            "text/plain": [
              "<Figure size 432x288 with 1 Axes>"
            ]
          },
          "metadata": {
            "tags": []
          }
        }
      ]
    },
    {
      "metadata": {
        "id": "JekKYYiJrti7",
        "colab_type": "code",
        "colab": {}
      },
      "cell_type": "code",
      "source": [
        ""
      ],
      "execution_count": 0,
      "outputs": []
    }
  ]
}